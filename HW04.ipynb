{
 "cells": [
  {
   "cell_type": "markdown",
   "id": "66fd1e93",
   "metadata": {},
   "source": [
    "1. The standard error of the mean measures how precise the sample mean is and how far that is likely to be from the population mean. The sample size and standard deviation are used to determine the standard error of the mean. The standard deviation is a measure of how spread out the data is from the mean. The standard deviation stays constant as the sample size increases while the standard error decreases as the sample size increases."
   ]
  },
  {
   "cell_type": "markdown",
   "id": "90b7a13a",
   "metadata": {},
   "source": [
    "2. First determine the z-score for a confidence level of 95%, then to find the confidence interval use the formula (sample mean) +/- (z * standard error), this will find the lower and upper bound of the interval."
   ]
  },
  {
   "cell_type": "markdown",
   "id": "cf3f15ed",
   "metadata": {},
   "source": [
    "3. Take the means at the 2.5 percentile and 97.5 percentile, then write it as an interval and that is the 95% confidence interval because 95% of the intervals created will contain the population mean."
   ]
  },
  {
   "cell_type": "code",
   "execution_count": null,
   "id": "64845fcd",
   "metadata": {},
   "outputs": [],
   "source": [
    "4.\n",
    "import numpy as np\n",
    "import random\n",
    "\n",
    "# Function to perform bootstrapping and calculate confidence intervals\n",
    "def bootstrap_confidence_interval(data, num_bootstrap_samples=1000, alpha=0.05):\n",
    "    \"\"\"\n",
    "    data: The original sample data as a list or numpy array\n",
    "    num_bootstrap_samples: Number of bootstrap resamples to generate\n",
    "    alpha: Significance level, default is 0.05 for a 95% confidence interval\n",
    "    \n",
    "    Returns: Lower and upper bounds of the confidence interval for the mean\n",
    "    \"\"\"\n",
    "    # Generate bootstrap samples\n",
    "    bootstrap_means = []\n",
    "    n = len(data)  # sample size\n",
    "    for _ in range(num_bootstrap_samples):\n",
    "        # Randomly sample with replacement from the original data\n",
    "        bootstrap_sample = [random.choice(data) for _ in range(n)]\n",
    "        # Calculate the mean for the bootstrap sample using np.mean, this can be done for any statistic by changing \"mean\" to \"median\" or any other stat.\n",
    "        bootstrap_means.append(np.mean(bootstrap_sample))\n",
    "    \n",
    "    # Calculate the percentiles for the confidence interval\n",
    "    lower_bound = np.percentile(bootstrap_means, 100 * alpha / 2)\n",
    "    upper_bound = np.percentile(bootstrap_means, 100 * (1 - alpha / 2))\n",
    "    \n",
    "    return lower_bound, upper_bound\n",
    "\n",
    "# Sample data\n",
    "sample_data = [50, 52, 53, 55, 60, 62, 65, 70, 75, 80]  # Example sample\n",
    "\n",
    "# Calculate a 95% confidence interval for the population mean using bootstrapping\n",
    "lower_ci, upper_ci = bootstrap_confidence_interval(sample_data)\n",
    "\n",
    "print(f\"95% Bootstrap Confidence Interval for the Mean: ({lower_ci}, {upper_ci})\")"
   ]
  },
  {
   "cell_type": "markdown",
   "id": "c7de3232",
   "metadata": {},
   "source": [
    "ChatGPT:\n",
    "\n",
    "Summary: In this conversation, we discussed the concepts of standard error of the mean (SEM) and standard deviation (SD), and how they differ. SD measures the spread of individual data points, while SEM estimates the precision of the sample mean as an approximation of the population mean.\n",
    "\n",
    "We then explored how the SEM can be used to calculate a 95% confidence interval (CI) for the population mean by using the formula: CI = (sample mean)±(1.96×SEM)\n",
    "\n",
    "This captures the range within which the true population mean is likely to lie with 95% confidence. In bootstrapping, SEM helps quantify how much the sample means vary from the true population mean, and approximately 95% of bootstrapped sample means would fall within the CI.\n",
    "\n",
    "Following this, we wrote Python code to calculate a 95% bootstrap confidence interval for the population mean using np.mean. We generated multiple bootstrap samples, calculated the mean for each sample, and then used percentiles to compute the 95% CI. We also noted how the code could be adapted to compute a CI for other population parameters, such as the median, by adjusting the statistical function used.\n",
    "\n",
    "Finally, we revised the code to explicitly use np.mean for calculating the sample mean in the bootstrap process.\n",
    "https://chatgpt.com/share/66fd8a3e-c0a4-8007-a6b9-e8142d824455"
   ]
  },
  {
   "cell_type": "markdown",
   "id": "d2c20a33",
   "metadata": {},
   "source": [
    "5. The sample mean is basically a guess at the population mean. This sample mean is used to determine the confidence interval for the population mean. The population mean is what we would get if we hypothetically got results from every single data point which is different than the few we are able to get from sampling."
   ]
  },
  {
   "cell_type": "markdown",
   "id": "a73e35ab",
   "metadata": {},
   "source": [
    "6.1. Bootstrapping is where to make up for the relatively low amount of data points you have for a dataset you take all of the data points you have and randomly pick them (with repetition) until you have the same amount of data points as you had in total. You then calculate the average of this and take this value. You do this many many times until you have many averages which are used to calculate estimate information about the whole population.\n",
    "\n",
    "6.2. To make up for the fact that we cannot get every data point available so we need to be able to accurately predict what the average of every data point could be.\n",
    "\n",
    "6.3. From bootstrapping you can take all the averages you got and remove the very high and low ones, then using the averages that are still remaining we can see if our guess could be among them, if it could be then our guess may be plausible."
   ]
  },
  {
   "cell_type": "markdown",
   "id": "4a7081ea",
   "metadata": {},
   "source": [
    "7. Although the sample mean could be higher than 0, this does not make the population mean higher than 0. This is seen from the confidence interval since it contains 0 it is plausible that this is the population mean and the drug is not doing anything on average. If the confidence interval did not contain 0 then the null hypothesis could be rejected since there is statistically convincing evidence that the population mean is not 0 so the drug would be doing something."
   ]
  },
  {
   "cell_type": "markdown",
   "id": "020bffaf",
   "metadata": {},
   "source": [
    "8. The null hypothesis is that the difference between the mean initial health score final health score is zero, thus meaning that the vaccine did not make an effect on the patient's health."
   ]
  },
  {
   "cell_type": "code",
   "execution_count": 2,
   "id": "5f5e0c2e",
   "metadata": {},
   "outputs": [
    {
     "data": {
      "text/html": [
       "<div>\n",
       "<style scoped>\n",
       "    .dataframe tbody tr th:only-of-type {\n",
       "        vertical-align: middle;\n",
       "    }\n",
       "\n",
       "    .dataframe tbody tr th {\n",
       "        vertical-align: top;\n",
       "    }\n",
       "\n",
       "    .dataframe thead th {\n",
       "        text-align: right;\n",
       "    }\n",
       "</style>\n",
       "<table border=\"1\" class=\"dataframe\">\n",
       "  <thead>\n",
       "    <tr style=\"text-align: right;\">\n",
       "      <th></th>\n",
       "      <th>PatientID</th>\n",
       "      <th>Age</th>\n",
       "      <th>Gender</th>\n",
       "      <th>InitialHealthScore</th>\n",
       "      <th>FinalHealthScore</th>\n",
       "    </tr>\n",
       "  </thead>\n",
       "  <tbody>\n",
       "    <tr>\n",
       "      <th>0</th>\n",
       "      <td>1</td>\n",
       "      <td>45</td>\n",
       "      <td>M</td>\n",
       "      <td>84</td>\n",
       "      <td>86</td>\n",
       "    </tr>\n",
       "    <tr>\n",
       "      <th>1</th>\n",
       "      <td>2</td>\n",
       "      <td>34</td>\n",
       "      <td>F</td>\n",
       "      <td>78</td>\n",
       "      <td>86</td>\n",
       "    </tr>\n",
       "    <tr>\n",
       "      <th>2</th>\n",
       "      <td>3</td>\n",
       "      <td>29</td>\n",
       "      <td>M</td>\n",
       "      <td>83</td>\n",
       "      <td>80</td>\n",
       "    </tr>\n",
       "    <tr>\n",
       "      <th>3</th>\n",
       "      <td>4</td>\n",
       "      <td>52</td>\n",
       "      <td>F</td>\n",
       "      <td>81</td>\n",
       "      <td>86</td>\n",
       "    </tr>\n",
       "    <tr>\n",
       "      <th>4</th>\n",
       "      <td>5</td>\n",
       "      <td>37</td>\n",
       "      <td>M</td>\n",
       "      <td>81</td>\n",
       "      <td>84</td>\n",
       "    </tr>\n",
       "    <tr>\n",
       "      <th>5</th>\n",
       "      <td>6</td>\n",
       "      <td>41</td>\n",
       "      <td>F</td>\n",
       "      <td>80</td>\n",
       "      <td>86</td>\n",
       "    </tr>\n",
       "    <tr>\n",
       "      <th>6</th>\n",
       "      <td>7</td>\n",
       "      <td>33</td>\n",
       "      <td>M</td>\n",
       "      <td>79</td>\n",
       "      <td>86</td>\n",
       "    </tr>\n",
       "    <tr>\n",
       "      <th>7</th>\n",
       "      <td>8</td>\n",
       "      <td>48</td>\n",
       "      <td>F</td>\n",
       "      <td>85</td>\n",
       "      <td>82</td>\n",
       "    </tr>\n",
       "    <tr>\n",
       "      <th>8</th>\n",
       "      <td>9</td>\n",
       "      <td>26</td>\n",
       "      <td>M</td>\n",
       "      <td>76</td>\n",
       "      <td>83</td>\n",
       "    </tr>\n",
       "    <tr>\n",
       "      <th>9</th>\n",
       "      <td>10</td>\n",
       "      <td>39</td>\n",
       "      <td>F</td>\n",
       "      <td>83</td>\n",
       "      <td>84</td>\n",
       "    </tr>\n",
       "  </tbody>\n",
       "</table>\n",
       "</div>"
      ],
      "text/plain": [
       "   PatientID  Age Gender  InitialHealthScore  FinalHealthScore\n",
       "0          1   45      M                  84                86\n",
       "1          2   34      F                  78                86\n",
       "2          3   29      M                  83                80\n",
       "3          4   52      F                  81                86\n",
       "4          5   37      M                  81                84\n",
       "5          6   41      F                  80                86\n",
       "6          7   33      M                  79                86\n",
       "7          8   48      F                  85                82\n",
       "8          9   26      M                  76                83\n",
       "9         10   39      F                  83                84"
      ]
     },
     "execution_count": 2,
     "metadata": {},
     "output_type": "execute_result"
    }
   ],
   "source": [
    "import pandas as pd\n",
    "df = pd.DataFrame({\"PatientID\": [1,2,3,4,5,6,7,8,9,10], \n",
    "                   \"Age\": [45,34,29,52,37,41,33,48,26,39], \n",
    "                   \"Gender\": ['M', 'F', 'M', 'F', 'M', 'F', 'M', 'F', 'M', 'F'],\n",
    "                   \"InitialHealthScore\": [84,78,83,81,81,80,79,85,76,83],\n",
    "                   \"FinalHealthScore\": [86,86,80,86,84,86,86,82,83,84]})\n",
    "df"
   ]
  },
  {
   "cell_type": "code",
   "execution_count": 1,
   "id": "1712a799",
   "metadata": {},
   "outputs": [
    {
     "data": {
      "image/png": "[encoded data removed]",
      "text/plain": [
       "<Figure size 640x480 with 1 Axes>"
      ]
     },
     "metadata": {},
     "output_type": "display_data"
    }
   ],
   "source": [
    "import pandas as pd\n",
    "import matplotlib.pyplot as plt\n",
    "\n",
    "# Your data\n",
    "df = pd.DataFrame({\n",
    "    \"PatientID\": [1,2,3,4,5,6,7,8,9,10], \n",
    "    \"Age\": [45,34,29,52,37,41,33,48,26,39], \n",
    "    \"Gender\": ['M', 'F', 'M', 'F', 'M', 'F', 'M', 'F', 'M', 'F'],\n",
    "    \"InitialHealthScore\": [84,78,83,81,81,80,79,85,76,83],\n",
    "    \"FinalHealthScore\": [86,86,80,86,84,86,86,82,83,84]\n",
    "})\n",
    "\n",
    "# Calculate the difference between Final and Initial health scores\n",
    "df['HealthScoreChange'] = df['FinalHealthScore'] - df['InitialHealthScore']\n",
    "\n",
    "# Create a histogram\n",
    "plt.hist(df['HealthScoreChange'], bins=5, edgecolor='black')\n",
    "\n",
    "# Add labels and title\n",
    "plt.xlabel('Health Score Change')\n",
    "plt.ylabel('Frequency')\n",
    "plt.title('Histogram of Health Score Change')\n",
    "\n",
    "# Display the plot\n",
    "plt.show()"
   ]
  },
  {
   "cell_type": "code",
   "execution_count": 2,
   "id": "ac59c814",
   "metadata": {},
   "outputs": [
    {
     "data": {
      "image/png": "[encoded data removed]",
      "text/plain": [
       "<Figure size 640x480 with 1 Axes>"
      ]
     },
     "metadata": {},
     "output_type": "display_data"
    }
   ],
   "source": [
    "import pandas as pd\n",
    "import numpy as np\n",
    "import matplotlib.pyplot as plt\n",
    "\n",
    "# Your data\n",
    "df = pd.DataFrame({\n",
    "    \"PatientID\": [1,2,3,4,5,6,7,8,9,10], \n",
    "    \"Age\": [45,34,29,52,37,41,33,48,26,39], \n",
    "    \"Gender\": ['M', 'F', 'M', 'F', 'M', 'F', 'M', 'F', 'M', 'F'],\n",
    "    \"InitialHealthScore\": [84,78,83,81,81,80,79,85,76,83],\n",
    "    \"FinalHealthScore\": [86,86,80,86,84,86,86,82,83,84]\n",
    "})\n",
    "\n",
    "# Calculate the original health score change\n",
    "df['HealthScoreChange'] = df['FinalHealthScore'] - df['InitialHealthScore']\n",
    "\n",
    "# Bootstrap function\n",
    "def bootstrap_diff(data, n_iterations=1000):\n",
    "    bootstrapped_diffs = []\n",
    "    for i in range(n_iterations):\n",
    "        # Resample the data with replacement\n",
    "        sample = data.sample(n=len(data), replace=True)\n",
    "        # Compute the mean difference of this bootstrap sample\n",
    "        bootstrapped_diffs.append(sample['HealthScoreChange'].mean())\n",
    "    return np.array(bootstrapped_diffs)\n",
    "\n",
    "# Perform bootstrapping\n",
    "n_iterations = 1000\n",
    "bootstrapped_means = bootstrap_diff(df, n_iterations)\n",
    "\n",
    "# Create a histogram of the bootstrapped results\n",
    "plt.hist(bootstrapped_means, bins=30, edgecolor='black')\n",
    "\n",
    "# Add labels and title\n",
    "plt.xlabel('Bootstrapped Mean Health Score Change')\n",
    "plt.ylabel('Frequency')\n",
    "plt.title('Bootstrap Histogram of Health Score Change')\n",
    "\n",
    "# Display the plot\n",
    "plt.show()"
   ]
  },
  {
   "cell_type": "code",
   "execution_count": null,
   "id": "dbae6f28",
   "metadata": {},
   "outputs": [],
   "source": [
    "import pandas as pd\n",
    "import numpy as np\n",
    "import matplotlib.pyplot as plt\n",
    "\n",
    "# Your data\n",
    "df = pd.DataFrame({\n",
    "    \"PatientID\": [1,2,3,4,5,6,7,8,9,10], \n",
    "    \"Age\": [45,34,29,52,37,41,33,48,26,39], \n",
    "    \"Gender\": ['M', 'F', 'M', 'F', 'M', 'F', 'M', 'F', 'M', 'F'],\n",
    "    \"InitialHealthScore\": [84,78,83,81,81,80,79,85,76,83],\n",
    "    \"FinalHealthScore\": [86,86,80,86,84,86,86,82,83,84]\n",
    "})\n",
    "\n",
    "# Calculate the original health score change\n",
    "df['HealthScoreChange'] = df['FinalHealthScore'] - df['InitialHealthScore']\n",
    "\n",
    "# Bootstrap function\n",
    "def bootstrap_diff(data, n_iterations=1000):\n",
    "    bootstrapped_diffs = []\n",
    "    for i in range(n_iterations):\n",
    "        # Resample the data with replacement\n",
    "        sample = data.sample(n=len(data), replace=True)\n",
    "        # Compute the mean difference of this bootstrap sample\n",
    "        bootstrapped_diffs.append(sample['HealthScoreChange'].mean())\n",
    "    return np.array(bootstrapped_diffs)\n",
    "\n",
    "# Perform bootstrapping\n",
    "n_iterations = 1000\n",
    "bootstrapped_means = bootstrap_diff(df, n_iterations)\n",
    "\n",
    "# Calculate the 95% confidence interval (percentile method)\n",
    "lower_bound = np.percentile(bootstrapped_means, 2.5)\n",
    "upper_bound = np.percentile(bootstrapped_means, 97.5)\n",
    "\n",
    "# Print the confidence interval\n",
    "print(f\"95% Confidence Interval: [{lower_bound}, {upper_bound}]\")\n",
    "\n",
    "# Create a histogram of the bootstrapped results\n",
    "plt.hist(bootstrapped_means, bins=30, edgecolor='black')\n",
    "\n",
    "# Add labels and title\n",
    "plt.xlabel('Bootstrapped Mean Health Score Change')\n",
    "plt.ylabel('Frequency')\n",
    "plt.title(f'Bootstrap Histogram of Health Score Change\\n95% CI: [{lower_bound:.2f}, {upper_bound:.2f}]')\n",
    "\n",
    "# Display the plot\n",
    "plt.show()"
   ]
  },
  {
   "cell_type": "markdown",
   "id": "48104f97",
   "metadata": {},
   "source": [
    "Since the 95% confidence interval does not fall within the value zero, we can reject the null hypothesis that the vaccine does not effect the patient's health. However, it is important to consider that the sample size of patients was only 10. Although bootstrapping does make our test more reliable, it can only help so much and it is still possible that our results do not accurately reflect the population. There are also many other factors that could have affected the change in health score such as age and sex which were not considered."
   ]
  },
  {
   "cell_type": "markdown",
   "id": "4497305f",
   "metadata": {},
   "source": [
    "ChatGPT: \n",
    "\"Summary of Bootstrapping and Confidence Interval Analysis\n",
    "In this exercise, I analyzed health score data for 10 patients to evaluate the impact of a new vaccine. The analysis focused on the difference between the FinalHealthScore and InitialHealthScore for each patient. I used bootstrapping techniques to assess the uncertainty around the mean health score change.\n",
    "\n",
    "First, I calculated the change in health score for each patient and plotted a histogram to visualize the distribution. Then, I performed a bootstrapping procedure, which involved resampling the data with replacement 1,000 times and computing the mean health score change for each resampled dataset. This provided a distribution of bootstrapped means, which was plotted in another histogram.\n",
    "\n",
    "Finally, I computed the 95% confidence interval for the mean health score change using the percentile method. The interval was obtained by taking the 2.5th and 97.5th percentiles of the bootstrapped mean differences, which gave a range representing where the true mean is likely to fall with 95% confidence.\n",
    "\n",
    "This analysis allowed me to estimate the impact of the vaccine on health scores while accounting for the variability in the sample.\""
   ]
  },
  {
   "cell_type": "markdown",
   "id": "f5888e28",
   "metadata": {},
   "source": [
    "https://chatgpt.com/share/66ff50f1-def8-8007-af9e-e19c8a8b5ce0"
   ]
  },
  {
   "cell_type": "markdown",
   "id": "c9476e46",
   "metadata": {},
   "source": [
    "9. Yes"
   ]
  }
 ],
 "metadata": {
  "kernelspec": {
   "display_name": "Python 3 (ipykernel)",
   "language": "python",
   "name": "python3"
  },
  "language_info": {
   "codemirror_mode": {
    "name": "ipython",
    "version": 3
   },
   "file_extension": ".py",
   "mimetype": "text/x-python",
   "name": "python",
   "nbconvert_exporter": "python",
   "pygments_lexer": "ipython3",
   "version": "3.11.6"
  }
 },
 "nbformat": 4,
 "nbformat_minor": 5
}
