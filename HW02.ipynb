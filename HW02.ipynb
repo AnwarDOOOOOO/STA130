{
 "cells": [
  {
   "cell_type": "markdown",
   "id": "ead12603",
   "metadata": {},
   "source": [
    "1 and 2. \n",
    "\n",
    "\"Summary of Monty Hall Simulation\n",
    "\n",
    "We discussed a Python simulation of the Monty Hall problem, a probability puzzle based on a game show scenario. The player chooses one of three doors, behind one of which is a prize, and behind the other two are goats. After the player makes a choice, the host reveals a goat behind one of the remaining doors, and the player can then choose whether to stick with their original door or switch to the other unopened door.\n",
    "Code Overview\n",
    "\n",
    "    Initial Code: The original code simulated this process 100,000 times, starting with the player always choosing door 1, then revealing a losing door, and switching to the remaining unopened door. The simulation tracked how often the player won by switching. It produced a result showing a win probability of around 66.6%, which matches the theoretical probability of winning by switching (2/3).\n",
    "\n",
    "    Code Simplification: To make the code more readable, we simplified it by using list comprehensions to handle door choices and filtering logic. The key lists in this simplified version are:\n",
    "        available_doors: This list stores the doors Monty can reveal, which are neither the player's initial choice nor the winning door.\n",
    "        remaining_door: This stores the last remaining door, which the player switches to after Monty reveals a losing door.\n",
    "\n",
    "    Understanding the Lists:\n",
    "        available_doors: Filters out the player’s choice and the winning door, leaving only the doors Monty can reveal.\n",
    "        remaining_door: Filters out the player's initial choice and the revealed door, leaving the remaining door for the player to switch to.\n",
    "\n",
    "In the end, the simplified code was easier to understand and produced the same results, illustrating the power of switching doors in the Monty Hall problem.\" - ChatGPT https://chatgpt.com/share/66ec37ec-0d98-8007-a872-c82752ee8f0f"
   ]
  },
  {
   "cell_type": "markdown",
   "id": "e8999b98",
   "metadata": {},
   "source": [
    "3."
   ]
  },
  {
   "cell_type": "code",
   "execution_count": null,
   "id": "f822acaa",
   "metadata": {},
   "outputs": [],
   "source": [
    "# Import necessary package\n",
    "import numpy as np\n",
    "\n",
    "# Initialize variables\n",
    "# Wins starts at 0\n",
    "total_wins = 0\n",
    "# Run simulation 100000 times\n",
    "reps = 100000\n",
    "# Create list of each door option\n",
    "doors = [1, 2, 3]\n",
    "\n",
    "# Run through simulation reps amount of times\n",
    "for _ in range(reps):\n",
    "    # Randomly assign the winning door and the player's initial choice\n",
    "    winning_door = np.random.choice(doors)\n",
    "    player_choice = 1  # Fixed initial choice\n",
    "\n",
    "    # If the door is not the player's choice or the winning door it is eligible to be revealed\n",
    "    available_doors = [door for door in doors if door != player_choice and door != winning_door]\n",
    "    # Monty reveals a losing door (not the player's choice or winning door)\n",
    "    revealed_door = np.random.choice(available_doors)\n",
    "\n",
    "    # Player switches to the remaining door\n",
    "    remaining_door = [door for door in doors if door != player_choice and door != revealed_door][0]\n",
    "\n",
    "    # Check if the player wins by switching\n",
    "    if remaining_door == winning_door:\n",
    "        # Wins go up by 1\n",
    "        total_wins += 1\n",
    "\n",
    "# Calculate win ratio\n",
    "win_ratio = total_wins / reps\n",
    "# Display win ratio\n",
    "win_ratio"
   ]
  },
  {
   "cell_type": "markdown",
   "id": "2c30beb3",
   "metadata": {},
   "source": [
    "4. \"We discussed a piece of Python code that contributes to the creation of a Markovian chatbot, which generates text by analyzing word sequences. The code uses two dictionaries: word_used, which tracks how often each word appears, and next_word, which records what words typically follow a given word and how often. The code iterates through a list of words (except the last one) to update these dictionaries.\n",
    "\n",
    "In each iteration, it checks whether the current word has been encountered before and updates its frequency. Then it examines the next word in the sequence, incrementing its count as a possible follower of the current word or adding it if it’s new. This process builds a model of word transitions, which can later be used to generate new text by selecting words based on the probability of them following one another.\n",
    "\n",
    "This approach is a basic implementation of a Markov chain, a common technique in text generation.\" - ChatGPT https://chatgpt.com/share/66ec3305-ccec-8007-b2bf-ea44a403a535\n"
   ]
  },
  {
   "cell_type": "markdown",
   "id": "a5099f7f",
   "metadata": {},
   "source": [
    "5.1. \"We discussed an extension of the Markovian chatbot that introduced two-word sequences (bigrams). The extension uses two nested dictionaries, word_used2 and next_word2, to track how often two-word combinations appear and what words follow these bigrams.\n",
    "\n",
    "Next, we explored Markovian Chatbot Extension #2, which incorporates character-specific word patterns using a dataset called avatar. A Counter tracks character names from the dataset (converted to uppercase with spaces replaced by dots). The chatbot creates separate nested dictionaries, word_used2C and next_word2C, for each character. These track bigram frequencies and the words that follow them, but on a per-character basis.\n",
    "\n",
    "This allows the chatbot to generate text that reflects different characters' unique word usage and sentence structures, making it more contextually appropriate to each character's dialogue patterns.\" - ChatGPT https://chatgpt.com/share/66ec3305-ccec-8007-b2bf-ea44a403a535\n",
    "\n",
    "5.3. ChatGPT understood extension #2 of the Markovian chatbot code when only being prompted with the original code and the extension.\n",
    "\n",
    "\"Here’s a summary of our conversation:\n",
    "\n",
    "    Initial Markovian Chatbot: You shared a piece of code that builds a Markov model by tracking word transitions from a list of words. I explained that the code is creating a frequency dictionary to track how often words appear and what words typically follow each other. I then provided a more efficient version using defaultdict to simplify the logic.\n",
    "\n",
    "    Extended Markovian Chatbot: Next, you shared an extension of the original code, which incorporates characters from a dataset (in a column called avatar.character). The extended version tracks word transitions (bigrams) specific to each character and the words that typically follow those transitions. I explained how the code creates character-specific Markov models, using nested dictionaries to store the data.\n",
    "\n",
    "    Refactoring Suggestions: I suggested a refactor to make the code cleaner, mainly by removing redundant checks and simplifying the dictionary initialization process using defaultdict. This version improves the readability while maintaining the same functionality.\" - ChatGPT https://chatgpt.com/share/66ec3665-2568-8007-b0ca-28a4f747e74f"
   ]
  },
  {
   "cell_type": "markdown",
   "id": "fe3f83a2",
   "metadata": {},
   "source": [
    "Hyperlink for Q5 ChatGPT conversation: https://chatgpt.com/share/66ec3665-2568-8007-b0ca-28a4f747e74f"
   ]
  },
  {
   "cell_type": "markdown",
   "id": "123bcc29",
   "metadata": {},
   "source": [
    "6.1. ChatGPT was able to be helpful for each question presented to it. It did this by answering all questions clearly and thoroughly. It was also able to revise code well which made the code easier to understand and more efficient.\n",
    "\n",
    "6.2. At times it was a little bit frustrating since it often responded with too much information that was unnecessary which made it take much longer to figure out the answers to my questions.\n",
    "\n",
    "6.3. ChatGPT is generally very useful in order to understand code. It answers questions clearly and explains things in-depth. It is also able to understand most questions about code that are given to it. However, it's answers often contain unnecessary jargon which can make it a heavily time consuming process to read it's answers and figure out what you actually need from them."
   ]
  },
  {
   "cell_type": "markdown",
   "id": "f6cf7c59",
   "metadata": {},
   "source": [
    "7. Since beginning the course I have been able to use Chatbots in more practical ways and been exposed to many of the better aspects of Chatbots that I have not previously spent much time exploring. This shaped my perception from one of indifference as they were often not too helpful for what I tried to get it to do since they were more creative endeavours to now my perception is a bit more positive because it has been very helpful for explaining code and other more scientific ideas."
   ]
  },
  {
   "cell_type": "markdown",
   "id": "8ebdedf9",
   "metadata": {},
   "source": [
    "8.1-8.3. \n",
    "\n",
    "\"Summary of Entire Conversation\n",
    "\n",
    "We began by discussing the relevance of key skills—learning, adaptability, communication, coding, statistics, and data science—in the modern workforce, particularly in data science careers. These skills are essential for success in a rapidly changing environment and open up various career opportunities across multiple industries.\n",
    "\n",
    "Next, we explored whether one could be a statistician or data scientist without coding or data analysis skills. While some roles might minimize the need for these skills, having at least a foundational understanding is beneficial for collaboration and effectiveness in the field.\n",
    "\n",
    "We then detailed the essential skills needed to become a statistician, which include:\n",
    "\n",
    "    Technical Skills: Knowledge of statistical concepts, data analysis, and proficiency in statistical software (e.g., R, SAS) and basic programming.\n",
    "    Analytical Skills: Critical thinking, attention to detail, and problem-solving abilities.\n",
    "    Soft Skills: Effective communication, collaboration, and project management skills.\n",
    "\n",
    "We noted that a strong educational background in statistics or a related field is typically required, along with a commitment to continuous learning to stay current in the evolving field of statistics.\" - ChatGPT https://chatgpt.com/share/66ec4081-7af0-8007-9086-c041b6d1ea9e\n",
    "\n",
    "8.4. To be a statistician I will need to have good technical and analytical skills which I can attain from learning in class and trying to find opportunities to learn more outside of class. I will need to focus on gaining more math skills though as those are behind my statistics and computer science skills.\n",
    "\n",
    "8.5. ChatGPT was not very helpful as it's explanations were extremely general and did not give actual ways to improve these skills. I could talk to someone who already has a job as a statistician to gain more insight on what I need to do in order to get this job."
   ]
  },
  {
   "cell_type": "markdown",
   "id": "fab465f3",
   "metadata": {},
   "source": [
    "9. Yes"
   ]
  }
 ],
 "metadata": {
  "kernelspec": {
   "display_name": "Python 3 (ipykernel)",
   "language": "python",
   "name": "python3"
  },
  "language_info": {
   "codemirror_mode": {
    "name": "ipython",
    "version": 3
   },
   "file_extension": ".py",
   "mimetype": "text/x-python",
   "name": "python",
   "nbconvert_exporter": "python",
   "pygments_lexer": "ipython3",
   "version": "3.11.6"
  }
 },
 "nbformat": 4,
 "nbformat_minor": 5
}
